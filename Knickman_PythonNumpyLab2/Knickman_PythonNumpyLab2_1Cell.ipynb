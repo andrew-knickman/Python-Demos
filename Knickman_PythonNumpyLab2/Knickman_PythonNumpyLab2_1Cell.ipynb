{
 "cells": [
  {
   "cell_type": "code",
   "execution_count": 17,
   "metadata": {},
   "outputs": [
    {
     "name": "stdout",
     "output_type": "stream",
     "text": [
      "Array:  [8 8 3 7 7 0 4 2 5 2]\n",
      "Positions where value > 5: (array([0, 1, 3, 4], dtype=int64),)\n",
      "Position of max value: 0\n",
      "Position of min value: 5\n",
      "[8 8 3 7 7 0 4 2 5 2]\n",
      "['arr_0', 'arr_1']\n",
      "[[0. 0. 0. 0.]\n",
      " [0. 0. 0. 0.]\n",
      " [0. 0. 0. 0.]\n",
      " [0. 0. 0. 0.]]\n",
      "[[1. 1. 1. 1.]\n",
      " [1. 1. 1. 1.]\n",
      " [1. 1. 1. 1.]\n",
      " [1. 1. 1. 1.]]\n",
      "[0 3 2 4 5 1]\n"
     ]
    },
    {
     "data": {
      "text/plain": [
       "array([[1, 2, 5, 4],\n",
       "       [2, 3, 3, 1],\n",
       "       [2, 5, 3, 5],\n",
       "       [3, 5, 4, 3],\n",
       "       [5, 3, 2, 5],\n",
       "       [5, 4, 2, 3],\n",
       "       [5, 5, 1, 4],\n",
       "       [5, 5, 4, 5]])"
      ]
     },
     "execution_count": 17,
     "metadata": {},
     "output_type": "execute_result"
    }
   ],
   "source": [
    "#Andrew Knickman\n",
    "#ITEC 345\n",
    "#Python Numpy lab 2\n",
    "\n",
    "\n",
    "import numpy as np\n",
    "arr_rand = np.array([8, 8, 3, 7, 7, 0, 4, 2, 5, 2])\n",
    "print(\"Array: \", arr_rand)\n",
    "\n",
    "index_gt5 = np.where(arr_rand > 5)\n",
    "print(\"Positions where value > 5:\",index_gt5)\n",
    "\n",
    "arr_rand.take(index_gt5)\n",
    "np.where(arr_rand>5,'gt5','le5')\n",
    "\n",
    "print(\"Position of max value:\",np.argmax(arr_rand))\n",
    "print(\"Position of min value:\",np.argmin(arr_rand))\n",
    "\n",
    "path = \"NumpyLab2DS.txt\"\n",
    "data = np.genfromtxt(path, delimiter=',', skip_header=1, dtype=None, encoding=None)\n",
    "data[:3]\n",
    "\n",
    "\n",
    "#np.savetxt(\"out.csv\",data,delimiter=\",\")\n",
    "\n",
    "np.save('myarray.npy',arr_rand)\n",
    "arr_rand2 = np.array([1, 2, 3, 4, 5, 6, 7, 8, 9, 0])\n",
    "np.savez('array.npz',arr_rand,arr_rand2)\n",
    "\n",
    "a = np.load('myarray.npy')\n",
    "print(a)\n",
    "\n",
    "b = np.load('array.npz')\n",
    "print(b.files)\n",
    "b['arr_0']\n",
    "\n",
    "a = np.zeros([4,4])\n",
    "b = np.ones([4,4])\n",
    "print(a)\n",
    "print(b)\n",
    "\n",
    "np.concatenate([a,b],axis=1)\n",
    "np.hstack([a,b])\n",
    "np.c_[a,b]\n",
    "\n",
    "np.r_[[1,2,3],0,0,[4,5,6]]\n",
    "\n",
    "arr = np.random.randint(1,6,size=[8,4])\n",
    "arr\n",
    "\n",
    "np.sort(arr,axis=0)\n",
    "\n",
    "x = np.array([1, 10, 5, 2, 8, 9])\n",
    "sort_index = np.argsort(x)\n",
    "print(sort_index)\n",
    "\n",
    "x[sort_index]\n",
    "\n",
    "sorted_index_1stcol = arr[:,0].argsort()\n",
    "arr[sorted_index_1stcol]\n",
    "\n",
    "arr[sorted_index_1stcol[::-1]]\n",
    "\n",
    "lexsorted_index = np.lexsort((arr[:,1],arr[:,0]))\n",
    "arr[lexsorted_index]"
   ]
  },
  {
   "cell_type": "code",
   "execution_count": null,
   "metadata": {},
   "outputs": [],
   "source": []
  },
  {
   "cell_type": "code",
   "execution_count": null,
   "metadata": {},
   "outputs": [],
   "source": []
  }
 ],
 "metadata": {
  "kernelspec": {
   "display_name": "Python 3",
   "language": "python",
   "name": "python3"
  },
  "language_info": {
   "codemirror_mode": {
    "name": "ipython",
    "version": 3
   },
   "file_extension": ".py",
   "mimetype": "text/x-python",
   "name": "python",
   "nbconvert_exporter": "python",
   "pygments_lexer": "ipython3",
   "version": "3.7.0"
  }
 },
 "nbformat": 4,
 "nbformat_minor": 2
}
